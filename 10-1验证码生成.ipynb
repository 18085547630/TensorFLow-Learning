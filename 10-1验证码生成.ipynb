{
 "cells": [
  {
   "cell_type": "code",
   "execution_count": 8,
   "metadata": {},
   "outputs": [],
   "source": [
    "from captcha.image import ImageCaptcha\n",
    "import numpy as np\n",
    "from PIL import Image\n",
    "import random\n",
    "import sys\n",
    "import os"
   ]
  },
  {
   "cell_type": "code",
   "execution_count": 20,
   "metadata": {},
   "outputs": [
    {
     "name": "stdout",
     "output_type": "stream",
     "text": [
      "['0', '1', '2', '3', '4', '5', '6', '7', '8', '9']\n",
      "['a', 'b', 'c', 'd', 'e', 'f', 'g', 'h', 'i', 'j', 'k', 'l', 'm', 'n', 'o', 'p', 'q', 'r', 's', 't', 'u', 'v', 'w', 'x', 'y', 'z']\n",
      "['A', 'B', 'C', 'D', 'E', 'F', 'G', 'H', 'I', 'J', 'K', 'L', 'M', 'N', 'O', 'P', 'Q', 'R', 'S', 'T', 'U', 'V', 'W', 'X', 'Y', 'Z']\n"
     ]
    }
   ],
   "source": [
    "number = [str(i) for i in range(10)]\n",
    "little = [chr(i) for i in range(97,123)]\n",
    "large = [chr(i) for i in range(65,91)]\n",
    "print(number)\n",
    "print(little)\n",
    "print(large)"
   ]
  },
  {
   "cell_type": "markdown",
   "metadata": {},
   "source": [
    "* 生成验证码"
   ]
  },
  {
   "cell_type": "code",
   "execution_count": 10,
   "metadata": {},
   "outputs": [
    {
     "name": "stdout",
     "output_type": "stream",
     "text": [
      ">> Creating image 2000/2000\n"
     ]
    }
   ],
   "source": [
    "# 随机生成4个字符\n",
    "def random_captcha_text(char_set=number,captcha_size=4):\n",
    "    captcha_text = []\n",
    "    for i in range(captcha_size):\n",
    "        c = random.choice(char_set)\n",
    "        captcha_text.append(c)\n",
    "    return captcha_text\n",
    "\n",
    "# 生成字符对应的验证码\n",
    "def gen_captcha_text_and_image(path):\n",
    "    image_ = ImageCaptcha()\n",
    "    captcha_text = random_captcha_text()\n",
    "    # 转换为字符串\n",
    "    captcha_text = ''.join(captcha_text)\n",
    "    captcha = image_.generate(captcha_text)\n",
    "    image_.write(captcha_text, path + captcha_text + '.jpg')\n",
    "\n",
    "path = 'captcha/images/'\n",
    "num = 2000\n",
    "\n",
    "if not os.path.exists(path):\n",
    "    os.makedirs(path)\n",
    "for i in range(num):\n",
    "    gen_captcha_text_and_image(path)\n",
    "    sys.stdout.write('\\r>> Creating image %d/%d' % (i+1,num))\n",
    "    sys.stdout.flush()\n",
    "sys.stdout.write('\\n')\n",
    "sys.stdout.flush()"
   ]
  }
 ],
 "metadata": {
  "kernelspec": {
   "display_name": "Python 3",
   "language": "python",
   "name": "python3"
  },
  "language_info": {
   "codemirror_mode": {
    "name": "ipython",
    "version": 3
   },
   "file_extension": ".py",
   "mimetype": "text/x-python",
   "name": "python",
   "nbconvert_exporter": "python",
   "pygments_lexer": "ipython3",
   "version": "3.6.2"
  }
 },
 "nbformat": 4,
 "nbformat_minor": 2
}
