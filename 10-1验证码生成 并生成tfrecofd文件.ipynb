{
 "cells": [
  {
   "cell_type": "code",
   "execution_count": 5,
   "metadata": {
    "collapsed": true
   },
   "outputs": [],
   "source": [
    "from captcha.image import ImageCaptcha\n",
    "import numpy as np\n",
    "from PIL import Image\n",
    "import random\n",
    "import sys\n",
    "import os\n",
    "import tensorflow as tf"
   ]
  },
  {
   "cell_type": "code",
   "execution_count": 2,
   "metadata": {},
   "outputs": [
    {
     "name": "stdout",
     "output_type": "stream",
     "text": [
      "['0', '1', '2', '3', '4', '5', '6', '7', '8', '9']\n",
      "['a', 'b', 'c', 'd', 'e', 'f', 'g', 'h', 'i', 'j', 'k', 'l', 'm', 'n', 'o', 'p', 'q', 'r', 's', 't', 'u', 'v', 'w', 'x', 'y', 'z']\n",
      "['A', 'B', 'C', 'D', 'E', 'F', 'G', 'H', 'I', 'J', 'K', 'L', 'M', 'N', 'O', 'P', 'Q', 'R', 'S', 'T', 'U', 'V', 'W', 'X', 'Y', 'Z']\n"
     ]
    }
   ],
   "source": [
    "number = [str(i) for i in range(10)]\n",
    "little = [chr(i) for i in range(97,123)]\n",
    "large = [chr(i) for i in range(65,91)]\n",
    "print(number)\n",
    "print(little)\n",
    "print(large)"
   ]
  },
  {
   "cell_type": "markdown",
   "metadata": {},
   "source": [
    "### 生成验证码"
   ]
  },
  {
   "cell_type": "code",
   "execution_count": 3,
   "metadata": {},
   "outputs": [
    {
     "name": "stdout",
     "output_type": "stream",
     "text": [
      ">> Creating image 10000/10000\n"
     ]
    }
   ],
   "source": [
    "# 随机生成4个字符\n",
    "def random_captcha_text(char_set=number,captcha_size=4):\n",
    "    captcha_text = []\n",
    "    for i in range(captcha_size):\n",
    "        c = random.choice(char_set)\n",
    "        captcha_text.append(c)\n",
    "    return captcha_text\n",
    "\n",
    "# 生成字符对应的验证码\n",
    "def gen_captcha_text_and_image(path):\n",
    "    image_ = ImageCaptcha()\n",
    "    captcha_text = random_captcha_text()\n",
    "    # 转换为字符串\n",
    "    captcha_text = ''.join(captcha_text)\n",
    "    captcha = image_.generate(captcha_text)\n",
    "    image_.write(captcha_text, path + captcha_text + '.jpg')\n",
    "\n",
    "path = 'captcha/images/'\n",
    "num = 10000\n",
    "\n",
    "if not os.path.exists(path):\n",
    "    os.makedirs(path)\n",
    "for i in range(num):\n",
    "    gen_captcha_text_and_image(path)\n",
    "    sys.stdout.write('\\r>> Creating image %d/%d' % (i+1,num))\n",
    "    sys.stdout.flush()\n",
    "sys.stdout.write('\\n')\n",
    "sys.stdout.flush()"
   ]
  },
  {
   "cell_type": "markdown",
   "metadata": {},
   "source": [
    "### 生成tfrecord"
   ]
  },
  {
   "cell_type": "code",
   "execution_count": 10,
   "metadata": {},
   "outputs": [
    {
     "name": "stdout",
     "output_type": "stream",
     "text": [
      ">> Converting image 5831/5831\n",
      ">> Converting image 500/500\n"
     ]
    }
   ],
   "source": [
    "_NUM_TEST = 500\n",
    "\n",
    "_RANDOM_SEED = 2\n",
    "\n",
    "DATA_DIR = 'captcha/images/'\n",
    "\n",
    "TFRECORD_DIR = 'captcha/'\n",
    "\n",
    "def _tfdata_exists(dataset_dir):\n",
    "    for split_name in ['train','test']:\n",
    "        tf_name = os.path.join(dataset_dir,split_name + '.tfrecord')\n",
    "        if not tf.gfile.Exists(tf_name):\n",
    "            return False\n",
    "    return True\n",
    "\n",
    "def _get_filenames(dataset_dir):\n",
    "    captcha_names = []\n",
    "    for filename in os.listdir(dataset_dir):\n",
    "        path = os.path.join(dataset_dir, filename)\n",
    "        captcha_names.append(path)\n",
    "    return captcha_names\n",
    "\n",
    "# def int64_feature(values):\n",
    "#     if not isinstance(values, (tuple, list)):\n",
    "#         values = [values]\n",
    "#     return tf.train.Feature(int64_list=tf.train.Int64List(value=value))\n",
    "\n",
    "def bytes_feature(values):\n",
    "    return tf.train.Feature(bytes_list=tf.train.BytesList(value = [values]))\n",
    "\n",
    "def image_to_tfexample(image_data,label):\n",
    "    return tf.train.Example(features=tf.train.Features(feature={\n",
    "     'image': bytes_feature(image_data),\n",
    "        'label':bytes_feature(label)\n",
    "    }))\n",
    "\n",
    "# 数据转换为record格式\n",
    "def _convert_dataset(split_name, filenames, tfrecord_dir):\n",
    "    assert split_name in ['train','test']\n",
    "    \n",
    "    with tf.Session() as sess:\n",
    "        out_tfnames = os.path.join(tfrecord_dir, split_name + '.tfrecord')\n",
    "        with tf.python_io.TFRecordWriter(out_tfnames) as tf_writer:\n",
    "            for i,filename in enumerate(filenames):\n",
    "                try:\n",
    "                    sys.stdout.write('\\r>> Converting image %d/%d' % (i+1,len(filenames)))\n",
    "                    sys.stdout.flush()\n",
    "                    \n",
    "                    image_data = Image.open(filename)\n",
    "                    image_data = image_data.resize((224,224))\n",
    "                    image_data = image_data.convert('L').tobytes()\n",
    "                    \n",
    "                    # 拿到4位验证码并encode()\n",
    "                    labels = filename.split('/')[-1].split('.')[0].encode()\n",
    "                    example = image_to_tfexample(image_data, labels)\n",
    "                    tf_writer.write(example.SerializeToString())\n",
    "                \n",
    "                except IOError as e:\n",
    "                    print('Wrong: ' + filename)\n",
    "                    print('Error: ',e)\n",
    "                    print('Skip it\\n')\n",
    "    sys.stdout.write('\\n')\n",
    "    sys.stdout.flush()\n",
    "    \n",
    "if _tfdata_exists(TFRECORD_DIR):\n",
    "    print('tf文件已存在')\n",
    "else:\n",
    "    photo_filenames = _get_filenames(DATA_DIR)\n",
    "    \n",
    "    random.seed(_RANDOM_SEED)\n",
    "    # 打乱文件\n",
    "    random.shuffle(photo_filenames)\n",
    "    training_filenames = photo_filenames[_NUM_TEST:]\n",
    "    testing_filenames = photo_filenames[:_NUM_TEST]\n",
    "    \n",
    "    _convert_dataset('train', training_filenames, TFRECORD_DIR)\n",
    "    _convert_dataset('test', testing_filenames, TFRECORD_DIR)"
   ]
  },
  {
   "cell_type": "code",
   "execution_count": null,
   "metadata": {
    "collapsed": true
   },
   "outputs": [],
   "source": []
  }
 ],
 "metadata": {
  "kernelspec": {
   "display_name": "Python 3",
   "language": "python",
   "name": "python3"
  },
  "language_info": {
   "codemirror_mode": {
    "name": "ipython",
    "version": 3
   },
   "file_extension": ".py",
   "mimetype": "text/x-python",
   "name": "python",
   "nbconvert_exporter": "python",
   "pygments_lexer": "ipython3",
   "version": "3.6.2"
  }
 },
 "nbformat": 4,
 "nbformat_minor": 2
}
